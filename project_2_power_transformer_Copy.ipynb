{
 "cells": [
  {
   "cell_type": "code",
   "execution_count": 1,
   "metadata": {},
   "outputs": [],
   "source": [
    "import pandas as pd \n",
    "import numpy as np \n",
    "import seaborn as sns\n",
    "import matplotlib.pyplot as plt\n",
    "%matplotlib inline "
   ]
  },
  {
   "cell_type": "code",
   "execution_count": 2,
   "metadata": {},
   "outputs": [],
   "source": [
    "pd.set_option('max_columns', 100)"
   ]
  },
  {
   "cell_type": "code",
   "execution_count": 10,
   "metadata": {},
   "outputs": [
    {
     "name": "stdout",
     "output_type": "stream",
     "text": [
      "training shape (2051, 81)\n"
     ]
    }
   ],
   "source": [
    "training = pd.read_csv('train.csv')\n",
    "print('training shape', training.shape)"
   ]
  },
  {
   "cell_type": "markdown",
   "metadata": {},
   "source": [
    "### Cleaning Training Dataset"
   ]
  },
  {
   "cell_type": "code",
   "execution_count": 11,
   "metadata": {},
   "outputs": [],
   "source": [
    "training.columns = [co.lower().replace(' ','_').replace('/','_') for co in training.columns]"
   ]
  },
  {
   "cell_type": "code",
   "execution_count": 13,
   "metadata": {},
   "outputs": [],
   "source": [
    "# changing NA to 'NA' in the variables with str value named NA\n",
    "subset_training = ['alley','bsmt_qual','bsmt_cond','bsmt_exposure','bsmtfin_type_1','bsmtfin_type_2',\\\n",
    "                   'fireplace_qu','garage_type' ,'garage_finish' ,'garage_qual' ,'garage_cond' ,'pool_qc' ,'fence'\\\n",
    "                   ,'misc_feature']\n",
    "[training[x].fillna('NA', inplace = True) for x in subset_training]"
   ]
  },
  {
   "cell_type": "code",
   "execution_count": 14,
   "metadata": {},
   "outputs": [
    {
     "name": "stdout",
     "output_type": "stream",
     "text": [
      "['lot_frontage', 'mas_vnr_type', 'mas_vnr_area', 'bsmtfin_sf_1', 'bsmtfin_sf_2', 'bsmt_unf_sf', 'total_bsmt_sf', 'bsmt_full_bath', 'bsmt_half_bath', 'garage_yr_blt', 'garage_cars', 'garage_area']\n"
     ]
    }
   ],
   "source": [
    "num_null = list(training.loc[:, training.isnull().sum() !=0].columns)\n",
    "print(num_null)"
   ]
  },
  {
   "cell_type": "code",
   "execution_count": 15,
   "metadata": {},
   "outputs": [
    {
     "data": {
      "text/plain": [
       "'mas_vnr_type'"
      ]
     },
     "execution_count": 15,
     "metadata": {},
     "output_type": "execute_result"
    }
   ],
   "source": [
    "# dropping the one column that has object type in the list\n",
    "num_null.pop(1)"
   ]
  },
  {
   "cell_type": "code",
   "execution_count": 17,
   "metadata": {},
   "outputs": [],
   "source": [
    "# replacing null with zero in numeric columns\n",
    "[training[x].fillna(0, inplace = True) for x in num_null]"
   ]
  },
  {
   "cell_type": "code",
   "execution_count": 18,
   "metadata": {},
   "outputs": [],
   "source": [
    "# replacing null values with None in the object column\n",
    "training['mas_vnr_type'] = training['mas_vnr_type'].fillna('None')"
   ]
  },
  {
   "cell_type": "code",
   "execution_count": 19,
   "metadata": {},
   "outputs": [
    {
     "name": "stdout",
     "output_type": "stream",
     "text": [
      "which ones still have nulls\n"
     ]
    },
    {
     "data": {
      "text/html": [
       "<div>\n",
       "<style scoped>\n",
       "    .dataframe tbody tr th:only-of-type {\n",
       "        vertical-align: middle;\n",
       "    }\n",
       "\n",
       "    .dataframe tbody tr th {\n",
       "        vertical-align: top;\n",
       "    }\n",
       "\n",
       "    .dataframe thead th {\n",
       "        text-align: right;\n",
       "    }\n",
       "</style>\n",
       "<table border=\"1\" class=\"dataframe\">\n",
       "  <thead>\n",
       "    <tr style=\"text-align: right;\">\n",
       "      <th></th>\n",
       "    </tr>\n",
       "  </thead>\n",
       "  <tbody>\n",
       "    <tr>\n",
       "      <th>0</th>\n",
       "    </tr>\n",
       "    <tr>\n",
       "      <th>1</th>\n",
       "    </tr>\n",
       "  </tbody>\n",
       "</table>\n",
       "</div>"
      ],
      "text/plain": [
       "Empty DataFrame\n",
       "Columns: []\n",
       "Index: [0, 1]"
      ]
     },
     "execution_count": 19,
     "metadata": {},
     "output_type": "execute_result"
    }
   ],
   "source": [
    "print('which ones still have nulls')\n",
    "training.loc[:,training.isnull().sum() != 0].head(2)"
   ]
  },
  {
   "cell_type": "code",
   "execution_count": 20,
   "metadata": {},
   "outputs": [],
   "source": [
    "# by reading the data dictionary\n",
    "ordinals = ['lot_shape', 'utilities', 'land_slope', 'exter_qual', 'exter_cond', 'bsmt_cond', \n",
    "            'bsmt_exposure', 'bsmtfin_type_2', 'heating_qc', 'electrical', 'kitchen_qual', 'functional', 'fireplace_qu', 'garage_finish', 'garage_qual', 'garage_cond', 'paved_drive','pool_qc', 'fence']"
   ]
  },
  {
   "cell_type": "code",
   "execution_count": 21,
   "metadata": {},
   "outputs": [],
   "source": [
    "test = pd.read_csv('test.csv')"
   ]
  },
  {
   "cell_type": "code",
   "execution_count": 22,
   "metadata": {},
   "outputs": [],
   "source": [
    "# encoding ordinal variables\n",
    "new_training = pd.DataFrame(training[ordinals])\n",
    "training[ordinals] = pd.DataFrame({col: new_training[col].astype('category').cat.codes for \\\n",
    "                                   col in new_training}, index = training.index)"
   ]
  },
  {
   "cell_type": "code",
   "execution_count": 23,
   "metadata": {},
   "outputs": [
    {
     "name": "stdout",
     "output_type": "stream",
     "text": [
      "sale price averages, by condition_2:\n"
     ]
    },
    {
     "data": {
      "text/plain": [
       "condition_2\n",
       "PosN      395666.667\n",
       "PosA      390666.667\n",
       "RRAe      190000.000\n",
       "Norm      181382.076\n",
       "RRAn      136905.000\n",
       "Feedr     129181.818\n",
       "Artery    119050.000\n",
       "RRNn       96750.000\n",
       "Name: saleprice, dtype: float64"
      ]
     },
     "execution_count": 23,
     "metadata": {},
     "output_type": "execute_result"
    }
   ],
   "source": [
    "print('sale price averages, by condition_2:')\n",
    "training['saleprice'].groupby(training['condition_2']).mean().round(3).sort_values(ascending = False)"
   ]
  },
  {
   "cell_type": "code",
   "execution_count": 24,
   "metadata": {},
   "outputs": [
    {
     "name": "stdout",
     "output_type": "stream",
     "text": [
      "the dataframe of columns withouth null values:\n"
     ]
    },
    {
     "data": {
      "text/plain": [
       "(2051, 0)"
      ]
     },
     "execution_count": 24,
     "metadata": {},
     "output_type": "execute_result"
    }
   ],
   "source": [
    "print('the dataframe of columns withouth null values:')\n",
    "training.loc[:,training.isnull().sum() != 0].shape"
   ]
  },
  {
   "cell_type": "code",
   "execution_count": 25,
   "metadata": {},
   "outputs": [],
   "source": [
    "now_nulls = list(training.loc[:,training.isnull().sum() != 0].columns)"
   ]
  },
  {
   "cell_type": "code",
   "execution_count": 26,
   "metadata": {},
   "outputs": [
    {
     "name": "stdout",
     "output_type": "stream",
     "text": [
      "now we have training df of size:  (2051, 81)\n"
     ]
    }
   ],
   "source": [
    "#since there is too many missing values, I'm gonna drop these columns entirely as I don't see much correlation with \n",
    "# y anyway\n",
    "to_drop = list(training.loc[:,training.isnull().sum() != 0].columns)\n",
    "training = training.drop(to_drop, axis = 1)\n",
    "print('now we have training df of size: ', training.shape)"
   ]
  },
  {
   "cell_type": "markdown",
   "metadata": {},
   "source": [
    "### CLEANING TEST DATA NOW, repating steps done for training data:"
   ]
  },
  {
   "cell_type": "code",
   "execution_count": 27,
   "metadata": {},
   "outputs": [],
   "source": [
    "test.columns = [co.lower().replace(' ','_').replace('/','_') for co in test.columns]\n",
    "[test[x].fillna('NA', inplace = True) for x in subset_training] # run only once! commented to avoid problems\n",
    "[test[x].fillna(0, inplace = True) for x in num_null]\n",
    "test['mas_vnr_type'] = test['mas_vnr_type'].fillna('None')"
   ]
  },
  {
   "cell_type": "code",
   "execution_count": 28,
   "metadata": {},
   "outputs": [],
   "source": [
    "new_test = pd.DataFrame(test[ordinals])\n",
    "test[ordinals] = pd.DataFrame({col: new_test[col].astype('category').cat.codes for col \\\n",
    "                               in new_test}, index = test.index)\n"
   ]
  },
  {
   "cell_type": "code",
   "execution_count": 29,
   "metadata": {},
   "outputs": [
    {
     "name": "stdout",
     "output_type": "stream",
     "text": [
      "test dataframe shape is now:  (879, 80)\n"
     ]
    }
   ],
   "source": [
    "test = test.drop(to_drop, axis = 1)\n",
    "print('test dataframe shape is now: ', test.shape)"
   ]
  },
  {
   "cell_type": "markdown",
   "metadata": {},
   "source": [
    "### Exploratory Data Analysis"
   ]
  },
  {
   "cell_type": "code",
   "execution_count": 30,
   "metadata": {},
   "outputs": [
    {
     "name": "stdout",
     "output_type": "stream",
     "text": [
      "                      0       abs\n",
      "saleprice      1.000000  1.000000\n",
      "overall_qual   0.800207  0.800207\n",
      "gr_liv_area    0.697038  0.697038\n",
      "exter_qual    -0.657939  0.657939\n",
      "garage_area    0.649897  0.649897\n",
      "garage_cars    0.647781  0.647781\n",
      "kitchen_qual  -0.634168  0.634168\n",
      "total_bsmt_sf  0.629303  0.629303\n",
      "1st_flr_sf     0.618486  0.618486\n"
     ]
    }
   ],
   "source": [
    "filtered = pd.DataFrame(training.corrwith(training['saleprice']))\n",
    "filtered['abs'] = abs(filtered[0])\n",
    "print(filtered.sort_values(by = 'abs', ascending  = False).head(9)) # above 0.6 correlation"
   ]
  },
  {
   "cell_type": "code",
   "execution_count": 31,
   "metadata": {},
   "outputs": [
    {
     "name": "stdout",
     "output_type": "stream",
     "text": [
      "['saleprice', 'overall_qual', 'gr_liv_area', 'exter_qual', 'garage_area', 'garage_cars', 'kitchen_qual', 'total_bsmt_sf', '1st_flr_sf']\n"
     ]
    }
   ],
   "source": [
    "highest_corrs = list(filtered.sort_values(by = 'abs', ascending  = False).index[:9])\n",
    "print(highest_corrs)"
   ]
  },
  {
   "cell_type": "code",
   "execution_count": 32,
   "metadata": {},
   "outputs": [
    {
     "data": {
      "image/png": "[encoded data removed]",
      "text/plain": [
       "<Figure size 1080x1080 with 2 Axes>"
      ]
     },
     "metadata": {
      "needs_background": "light"
     },
     "output_type": "display_data"
    }
   ],
   "source": [
    "plt.figure(figsize=(15, 15))\n",
    "sns.heatmap(pd.DataFrame(filtered[0]), annot = True, vmin = -1, vmax = 1, cmap = 'coolwarm');"
   ]
  },
  {
   "cell_type": "code",
   "execution_count": 33,
   "metadata": {},
   "outputs": [
    {
     "data": {
      "image/png": "[encoded data removed]",
      "text/plain": [
       "<Figure size 432x288 with 1 Axes>"
      ]
     },
     "metadata": {
      "needs_background": "light"
     },
     "output_type": "display_data"
    }
   ],
   "source": [
    "plt.hist(training['saleprice']);\n",
    "plt.title('Sale Prices in Training Set');\n",
    "# this tells me I need to log-transform y "
   ]
  },
  {
   "cell_type": "markdown",
   "metadata": {},
   "source": [
    "### Preparing the Model"
   ]
  },
  {
   "cell_type": "code",
   "execution_count": 34,
   "metadata": {},
   "outputs": [],
   "source": [
    "from sklearn.linear_model import LassoCV, RidgeCV, LinearRegression, ElasticNetCV\n",
    "from sklearn.preprocessing import StandardScaler, PolynomialFeatures, PowerTransformer\n",
    "from sklearn.metrics import r2_score\n",
    "from sklearn.model_selection import cross_val_score, train_test_split"
   ]
  },
  {
   "cell_type": "code",
   "execution_count": 35,
   "metadata": {},
   "outputs": [],
   "source": [
    "# fetching the numerical columns only, that are not my target\n",
    "features = [col for col in training._get_numeric_data().columns if col != 'saleprice']\n",
    "X = training[features]\n",
    "y = training['saleprice']"
   ]
  },
  {
   "cell_type": "code",
   "execution_count": 36,
   "metadata": {},
   "outputs": [
    {
     "name": "stdout",
     "output_type": "stream",
     "text": [
      "X df shape (2051, 57), test df shape (879, 57)\n"
     ]
    }
   ],
   "source": [
    "# doing the same thing for our test dataset to match dimensions with X\n",
    "variables = [col for col in test._get_numeric_data().columns]\n",
    "test_data = test[variables]\n",
    "test_data.shape\n",
    "print(\"X df shape {}, test df shape {}\".format(X.shape, test_data.shape))"
   ]
  },
  {
   "cell_type": "markdown",
   "metadata": {},
   "source": [
    "### Train/Test/Split & Scaling"
   ]
  },
  {
   "cell_type": "code",
   "execution_count": 37,
   "metadata": {},
   "outputs": [],
   "source": [
    "X_train, X_test, y_train, y_test = train_test_split(X, y, random_state = 42)"
   ]
  },
  {
   "cell_type": "code",
   "execution_count": 38,
   "metadata": {},
   "outputs": [
    {
     "name": "stderr",
     "output_type": "stream",
     "text": [
      "/anaconda3/lib/python3.6/site-packages/sklearn/preprocessing/data.py:625: DataConversionWarning: Data with input dtype int8, int64, float64 were all converted to float64 by StandardScaler.\n",
      "  return self.partial_fit(X, y)\n",
      "/anaconda3/lib/python3.6/site-packages/sklearn/base.py:462: DataConversionWarning: Data with input dtype int8, int64, float64 were all converted to float64 by StandardScaler.\n",
      "  return self.fit(X, **fit_params).transform(X)\n",
      "/anaconda3/lib/python3.6/site-packages/ipykernel_launcher.py:4: DataConversionWarning: Data with input dtype int8, int64, float64 were all converted to float64 by StandardScaler.\n",
      "  after removing the cwd from sys.path.\n"
     ]
    }
   ],
   "source": [
    "# scaling\n",
    "ss = StandardScaler()\n",
    "X_train_sc = ss.fit_transform(X_train)\n",
    "X_test_sc = ss.transform(X_test)"
   ]
  },
  {
   "cell_type": "markdown",
   "metadata": {},
   "source": [
    "### Power Transformer"
   ]
  },
  {
   "cell_type": "code",
   "execution_count": 39,
   "metadata": {},
   "outputs": [],
   "source": [
    "# transforming the y:\n",
    "pt_y = PowerTransformer() # includes rescaling\n",
    "pt_y.fit(y_train.to_frame())\n",
    "y_train_pt = pt_y.transform(y_train.to_frame()) \n",
    "y_test_pt = pt_y.transform(y_test.to_frame())"
   ]
  },
  {
   "cell_type": "code",
   "execution_count": 40,
   "metadata": {},
   "outputs": [
    {
     "data": {
      "image/png": "[encoded data removed]",
      "text/plain": [
       "<Figure size 432x288 with 1 Axes>"
      ]
     },
     "metadata": {
      "needs_background": "light"
     },
     "output_type": "display_data"
    }
   ],
   "source": [
    "plt.hist(y_train_pt,bins=25);\n",
    "plt.title('Sale Prices After Log-Transformation');"
   ]
  },
  {
   "cell_type": "code",
   "execution_count": 41,
   "metadata": {},
   "outputs": [],
   "source": [
    "# instantiate the model\n",
    "lr = LinearRegression()\n",
    "lasso = LassoCV(cv = 5)\n",
    "ridge = RidgeCV()\n",
    "elastic = ElasticNetCV()"
   ]
  },
  {
   "cell_type": "code",
   "execution_count": 48,
   "metadata": {},
   "outputs": [
    {
     "name": "stdout",
     "output_type": "stream",
     "text": [
      "scoring the model: \n",
      "linear regression:  0.8384020405468033\n",
      "lasso:  0.838870215569979\n",
      "ridge:  0.8395375990891312\n"
     ]
    },
    {
     "name": "stderr",
     "output_type": "stream",
     "text": [
      "/anaconda3/lib/python3.6/site-packages/sklearn/model_selection/_split.py:2053: FutureWarning: You should specify a value for 'cv' instead of relying on the default value. The default value will change from 3 to 5 in version 0.22.\n",
      "  warnings.warn(CV_WARNING, FutureWarning)\n",
      "/anaconda3/lib/python3.6/site-packages/sklearn/model_selection/_split.py:2053: FutureWarning: You should specify a value for 'cv' instead of relying on the default value. The default value will change from 3 to 5 in version 0.22.\n",
      "  warnings.warn(CV_WARNING, FutureWarning)\n",
      "/anaconda3/lib/python3.6/site-packages/sklearn/model_selection/_split.py:2053: FutureWarning: You should specify a value for 'cv' instead of relying on the default value. The default value will change from 3 to 5 in version 0.22.\n",
      "  warnings.warn(CV_WARNING, FutureWarning)\n",
      "/anaconda3/lib/python3.6/site-packages/sklearn/model_selection/_split.py:2053: FutureWarning: You should specify a value for 'cv' instead of relying on the default value. The default value will change from 3 to 5 in version 0.22.\n",
      "  warnings.warn(CV_WARNING, FutureWarning)\n",
      "/anaconda3/lib/python3.6/site-packages/sklearn/model_selection/_split.py:2053: FutureWarning: You should specify a value for 'cv' instead of relying on the default value. The default value will change from 3 to 5 in version 0.22.\n",
      "  warnings.warn(CV_WARNING, FutureWarning)\n"
     ]
    },
    {
     "name": "stdout",
     "output_type": "stream",
     "text": [
      "elastic net:  0.8376891443600758\n"
     ]
    }
   ],
   "source": [
    "print('scoring the model: ')\n",
    "print('linear regression: ', cross_val_score(lr, X_train, y_train_pt, cv = 5).mean())\n",
    "print('lasso: ', cross_val_score(lasso, X_train_sc, y_train_pt[:,0], cv = 5).mean())\n",
    "print('ridge: ',cross_val_score(ridge, X_train_sc, y_train_pt[:,0], cv = 5).mean())\n",
    "print('elastic net: ', cross_val_score(elastic, X_train_sc, y_train_pt[:,0], cv = 5).mean())"
   ]
  },
  {
   "cell_type": "code",
   "execution_count": 45,
   "metadata": {},
   "outputs": [
    {
     "name": "stdout",
     "output_type": "stream",
     "text": [
      "ridge score on training set: 0.8790971722378448\n",
      "ridge score on test set:  0.8787060146187728\n"
     ]
    }
   ],
   "source": [
    "# model fitting and evaluation:\n",
    "lasso.fit(X_train_sc, y_train_pt);\n",
    "print('lasso score on training set:', ridge.score(X_train_sc, y_train_pt))\n",
    "print('lasso score on test set: ', ridge.score(X_test_sc, y_test_pt))"
   ]
  },
  {
   "cell_type": "code",
   "execution_count": 49,
   "metadata": {},
   "outputs": [],
   "source": [
    "# predicting:\n",
    "ridge_pred = ridge.predict(X_test_sc)"
   ]
  },
  {
   "cell_type": "code",
   "execution_count": 50,
   "metadata": {},
   "outputs": [
    {
     "data": {
      "image/png": "[encoded data removed]",
      "text/plain": [
       "<Figure size 432x288 with 1 Axes>"
      ]
     },
     "metadata": {
      "needs_background": "light"
     },
     "output_type": "display_data"
    }
   ],
   "source": [
    "plt.hist(ridge_pred);\n",
    "plt.title('ridge predictions, based on log-transformation'.title());"
   ]
  },
  {
   "cell_type": "code",
   "execution_count": 51,
   "metadata": {},
   "outputs": [],
   "source": [
    "# to go back to originals:\n",
    "# The .reshape(-1,1) method changes a numpy array into a numpy matrix with 1 column\n",
    "ridge_pred_reversed = pt_y.inverse_transform(ridge_pred.reshape(-1,1))"
   ]
  },
  {
   "cell_type": "code",
   "execution_count": 52,
   "metadata": {},
   "outputs": [
    {
     "data": {
      "image/png": "[encoded data removed]",
      "text/plain": [
       "<Figure size 432x288 with 1 Axes>"
      ]
     },
     "metadata": {
      "needs_background": "light"
     },
     "output_type": "display_data"
    }
   ],
   "source": [
    "plt.hist(ridge_pred_reversed);\n",
    "plt.title('ridge predictions, back to original values'.title());"
   ]
  },
  {
   "cell_type": "code",
   "execution_count": 53,
   "metadata": {},
   "outputs": [
    {
     "name": "stdout",
     "output_type": "stream",
     "text": [
      "ridge score on target:  0.8923168778461678\n"
     ]
    }
   ],
   "source": [
    "print('ridge score on target: ', r2_score(y_test, ridge_pred_reversed))"
   ]
  },
  {
   "cell_type": "code",
   "execution_count": 54,
   "metadata": {},
   "outputs": [
    {
     "data": {
      "image/png": "[encoded data removed]",
      "text/plain": [
       "<Figure size 432x288 with 1 Axes>"
      ]
     },
     "metadata": {
      "needs_background": "light"
     },
     "output_type": "display_data"
    }
   ],
   "source": [
    "# plotting residuals\n",
    "resid = y_test_pt - ridge_pred\n",
    "plt.hist(resid);\n",
    "plt.title('errors distribution of ridge prediction'.title());"
   ]
  },
  {
   "cell_type": "code",
   "execution_count": 55,
   "metadata": {},
   "outputs": [
    {
     "name": "stderr",
     "output_type": "stream",
     "text": [
      "/anaconda3/lib/python3.6/site-packages/ipykernel_launcher.py:2: DataConversionWarning: Data with input dtype int8, int64, float64 were all converted to float64 by StandardScaler.\n",
      "  \n"
     ]
    },
    {
     "data": {
      "image/png": "[encoded data removed]",
      "text/plain": [
       "<Figure size 432x288 with 1 Axes>"
      ]
     },
     "metadata": {
      "needs_background": "light"
     },
     "output_type": "display_data"
    }
   ],
   "source": [
    "# predicting on the testing dataset\n",
    "test_data_sc = ss.transform(test_data)\n",
    "saleprice = ridge.predict(test_data_sc)\n",
    "plt.hist(saleprice); #after rescaling\n",
    "plt.title('sale prices after log transformation'.title());"
   ]
  },
  {
   "cell_type": "code",
   "execution_count": 56,
   "metadata": {},
   "outputs": [
    {
     "data": {
      "image/png": "[encoded data removed]",
      "text/plain": [
       "<Figure size 432x288 with 1 Axes>"
      ]
     },
     "metadata": {
      "needs_background": "light"
     },
     "output_type": "display_data"
    }
   ],
   "source": [
    "saleprice = pt_y.inverse_transform(saleprice)\n",
    "plt.hist(saleprice); # after un-rescaling (going back to originals)\n",
    "plt.title('sale prices going back to original values'.title());"
   ]
  },
  {
   "cell_type": "code",
   "execution_count": 57,
   "metadata": {},
   "outputs": [
    {
     "data": {
      "text/html": [
       "<div>\n",
       "<style scoped>\n",
       "    .dataframe tbody tr th:only-of-type {\n",
       "        vertical-align: middle;\n",
       "    }\n",
       "\n",
       "    .dataframe tbody tr th {\n",
       "        vertical-align: top;\n",
       "    }\n",
       "\n",
       "    .dataframe thead th {\n",
       "        text-align: right;\n",
       "    }\n",
       "</style>\n",
       "<table border=\"1\" class=\"dataframe\">\n",
       "  <thead>\n",
       "    <tr style=\"text-align: right;\">\n",
       "      <th></th>\n",
       "      <th>id</th>\n",
       "      <th>SalePrice</th>\n",
       "    </tr>\n",
       "  </thead>\n",
       "  <tbody>\n",
       "    <tr>\n",
       "      <th>0</th>\n",
       "      <td>2658</td>\n",
       "      <td>98535.512996</td>\n",
       "    </tr>\n",
       "    <tr>\n",
       "      <th>1</th>\n",
       "      <td>2718</td>\n",
       "      <td>112508.401352</td>\n",
       "    </tr>\n",
       "    <tr>\n",
       "      <th>2</th>\n",
       "      <td>2414</td>\n",
       "      <td>164458.306314</td>\n",
       "    </tr>\n",
       "    <tr>\n",
       "      <th>3</th>\n",
       "      <td>1989</td>\n",
       "      <td>74837.001612</td>\n",
       "    </tr>\n",
       "    <tr>\n",
       "      <th>4</th>\n",
       "      <td>625</td>\n",
       "      <td>131045.001811</td>\n",
       "    </tr>\n",
       "  </tbody>\n",
       "</table>\n",
       "</div>"
      ],
      "text/plain": [
       "     id      SalePrice\n",
       "0  2658   98535.512996\n",
       "1  2718  112508.401352\n",
       "2  2414  164458.306314\n",
       "3  1989   74837.001612\n",
       "4   625  131045.001811"
      ]
     },
     "execution_count": 57,
     "metadata": {},
     "output_type": "execute_result"
    }
   ],
   "source": [
    "saleprice = [i[0] for i in saleprice] # it was a list of lists\n",
    "pd.DataFrame({'SalePrice' : saleprice}, index = test['id']).to_csv('second_prediction.csv')\n",
    "pd.read_csv('second_prediction.csv').head()"
   ]
  },
  {
   "cell_type": "code",
   "execution_count": 59,
   "metadata": {},
   "outputs": [
    {
     "data": {
      "text/html": [
       "<div>\n",
       "<style scoped>\n",
       "    .dataframe tbody tr th:only-of-type {\n",
       "        vertical-align: middle;\n",
       "    }\n",
       "\n",
       "    .dataframe tbody tr th {\n",
       "        vertical-align: top;\n",
       "    }\n",
       "\n",
       "    .dataframe thead th {\n",
       "        text-align: right;\n",
       "    }\n",
       "</style>\n",
       "<table border=\"1\" class=\"dataframe\">\n",
       "  <thead>\n",
       "    <tr style=\"text-align: right;\">\n",
       "      <th></th>\n",
       "      <th>0</th>\n",
       "      <th>originals</th>\n",
       "      <th>abs_vals</th>\n",
       "    </tr>\n",
       "  </thead>\n",
       "  <tbody>\n",
       "    <tr>\n",
       "      <th>overall_qual</th>\n",
       "      <td>0.277507</td>\n",
       "      <td>1.319835</td>\n",
       "      <td>1.319835</td>\n",
       "    </tr>\n",
       "    <tr>\n",
       "      <th>year_built</th>\n",
       "      <td>0.133453</td>\n",
       "      <td>1.142768</td>\n",
       "      <td>1.142768</td>\n",
       "    </tr>\n",
       "    <tr>\n",
       "      <th>gr_liv_area</th>\n",
       "      <td>0.117812</td>\n",
       "      <td>1.125033</td>\n",
       "      <td>1.125033</td>\n",
       "    </tr>\n",
       "    <tr>\n",
       "      <th>overall_cond</th>\n",
       "      <td>0.105758</td>\n",
       "      <td>1.111553</td>\n",
       "      <td>1.111553</td>\n",
       "    </tr>\n",
       "    <tr>\n",
       "      <th>garage_cars</th>\n",
       "      <td>0.083911</td>\n",
       "      <td>1.087532</td>\n",
       "      <td>1.087532</td>\n",
       "    </tr>\n",
       "    <tr>\n",
       "      <th>1st_flr_sf</th>\n",
       "      <td>0.080866</td>\n",
       "      <td>1.084225</td>\n",
       "      <td>1.084225</td>\n",
       "    </tr>\n",
       "    <tr>\n",
       "      <th>bsmt_full_bath</th>\n",
       "      <td>0.080052</td>\n",
       "      <td>1.083343</td>\n",
       "      <td>1.083343</td>\n",
       "    </tr>\n",
       "    <tr>\n",
       "      <th>year_remod_add</th>\n",
       "      <td>0.072831</td>\n",
       "      <td>1.075549</td>\n",
       "      <td>1.075549</td>\n",
       "    </tr>\n",
       "    <tr>\n",
       "      <th>fireplaces</th>\n",
       "      <td>0.070912</td>\n",
       "      <td>1.073486</td>\n",
       "      <td>1.073486</td>\n",
       "    </tr>\n",
       "    <tr>\n",
       "      <th>paved_drive</th>\n",
       "      <td>0.064507</td>\n",
       "      <td>1.066633</td>\n",
       "      <td>1.066633</td>\n",
       "    </tr>\n",
       "  </tbody>\n",
       "</table>\n",
       "</div>"
      ],
      "text/plain": [
       "                       0  originals  abs_vals\n",
       "overall_qual    0.277507   1.319835  1.319835\n",
       "year_built      0.133453   1.142768  1.142768\n",
       "gr_liv_area     0.117812   1.125033  1.125033\n",
       "overall_cond    0.105758   1.111553  1.111553\n",
       "garage_cars     0.083911   1.087532  1.087532\n",
       "1st_flr_sf      0.080866   1.084225  1.084225\n",
       "bsmt_full_bath  0.080052   1.083343  1.083343\n",
       "year_remod_add  0.072831   1.075549  1.075549\n",
       "fireplaces      0.070912   1.073486  1.073486\n",
       "paved_drive     0.064507   1.066633  1.066633"
      ]
     },
     "execution_count": 59,
     "metadata": {},
     "output_type": "execute_result"
    }
   ],
   "source": [
    "### Getting Coefficients: \n",
    "ridge_coefs = pd.DataFrame(ridge.coef_, columns = X_train.columns).T\n",
    "ridge_coefs['originals'] = np.exp(ridge_coefs[0]) #getting original values, since it's log-transformed\n",
    "ridge_coefs['abs_vals'] = ridge_coefs['originals'].abs()\n",
    "ridge_coefs.sort_values(by = 'abs_vals', ascending = False).head(10)"
   ]
  },
  {
   "cell_type": "code",
   "execution_count": 60,
   "metadata": {},
   "outputs": [
    {
     "data": {
      "image/png": "[encoded data removed]",
      "text/plain": [
       "<Figure size 864x864 with 1 Axes>"
      ]
     },
     "metadata": {
      "needs_background": "light"
     },
     "output_type": "display_data"
    }
   ],
   "source": [
    "### plotting Training set SalePrices by neighborhood\n",
    "plt.figure(figsize = (12,12))\n",
    "plt.barh(training['neighborhood'], training['saleprice']);\n",
    "#remove the %matplotlib inline from the top of the document first in order to be able to save!\n",
    "plt.savefig('saleprice_by_neighborhood.png')"
   ]
  },
  {
   "cell_type": "code",
   "execution_count": 61,
   "metadata": {},
   "outputs": [],
   "source": [
    "##P.S. no need to use GridSearch with RidgeCV because that latter has a parameter within it to test a few alphas, which \n",
    "#I can change. I could use GridSearch with Ridge however. \n",
    "#==================================================================================================="
   ]
  }
 ],
 "metadata": {
  "kernelspec": {
   "display_name": "Python 3",
   "language": "python",
   "name": "python3"
  },
  "language_info": {
   "codemirror_mode": {
    "name": "ipython",
    "version": 3
   },
   "file_extension": ".py",
   "mimetype": "text/x-python",
   "name": "python",
   "nbconvert_exporter": "python",
   "pygments_lexer": "ipython3",
   "version": "3.6.8"
  }
 },
 "nbformat": 4,
 "nbformat_minor": 2
}
